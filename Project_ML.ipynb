{
  "nbformat": 4,
  "nbformat_minor": 0,
  "metadata": {
    "kernelspec": {
      "display_name": "Python 3",
      "language": "python",
      "name": "python3"
    },
    "language_info": {
      "codemirror_mode": {
        "name": "ipython",
        "version": 3
      },
      "file_extension": ".py",
      "mimetype": "text/x-python",
      "name": "python",
      "nbconvert_exporter": "python",
      "pygments_lexer": "ipython3",
      "version": "3.6.6"
    },
    "colab": {
      "name": "Project_ML.ipynb",
      "provenance": []
    }
  },
  "cells": [
    {
      "cell_type": "code",
      "metadata": {
        "id": "llqLxs27RAI7",
        "colab_type": "code",
        "colab": {}
      },
      "source": [
        "import torch\n",
        "import pandas as pd \n",
        "from PIL import Image\n",
        "from torch.utils.data.dataset import Dataset\n",
        "from torch.utils.data import DataLoader\n",
        "import torchvision.transforms as transforms\n",
        "from torch.utils.data.sampler import SubsetRandomSampler\n",
        "import torchvision.datasets as datasets\n",
        "import torchvision\n",
        "import matplotlib.pyplot as plt\n",
        "from torchvision import models\n",
        "from torch.autograd import Variable\n",
        "from torch.optim import lr_scheduler\n",
        "from sklearn.model_selection import train_test_split\n",
        "import torch.optim as optim\n",
        "import torch.nn as nn\n",
        "import numpy as np\n",
        "import os"
      ],
      "execution_count": 0,
      "outputs": []
    },
    {
      "cell_type": "code",
      "metadata": {
        "id": "UYK1f9WrRAJD",
        "colab_type": "code",
        "colab": {},
        "outputId": "ac3723a0-dbbd-4bcd-d087-d969d74c1fbd"
      },
      "source": [
        "traindata = datasets.ImageFolder('/home/balaji/balaji/train', transforms.ToTensor())\n",
        "image_means = torch.stack([t.mean(1).mean(1) for t, c in traindata])\n",
        "std_means = torch.stack([t.std(1).std(1) for t, c in traindata])\n",
        "print(\"Mean\",image_means.mean(0))\n",
        "print(\"Standard Deviation\",std_means.std(0))"
      ],
      "execution_count": 0,
      "outputs": [
        {
          "output_type": "stream",
          "text": [
            "Mean tensor([0.4956, 0.5150, 0.5682])\n",
            "Standard Deviation tensor([0.0238, 0.0246, 0.0224])\n"
          ],
          "name": "stdout"
        }
      ]
    },
    {
      "cell_type": "code",
      "metadata": {
        "id": "3DC3Rq7zRAJG",
        "colab_type": "code",
        "colab": {}
      },
      "source": [
        "def vocabulary(labels):\n",
        "    words=set()\n",
        "    for i in labels:\n",
        "        words.add(i)\n",
        "    print(len(words))\n",
        "    all_words=sorted(list(words))\n",
        "    vocab={ all_words[j]:j for j in range(0,len(all_words)) }\n",
        "    return vocab"
      ],
      "execution_count": 0,
      "outputs": []
    },
    {
      "cell_type": "code",
      "metadata": {
        "id": "7RSUe5ouRAJJ",
        "colab_type": "code",
        "colab": {},
        "outputId": "d2d3ed74-917b-47ae-f611-214a4c751fca"
      },
      "source": [
        "data = pd.read_csv('train_cars.csv', sep=\",\")\n",
        "X = np.asarray(data.iloc[:,0])\n",
        "label_arr = np.asarray(data.iloc[:,1]) \n",
        "vocab = vocabulary(label_arr)\n",
        "input_len=len(data.index)\n",
        "\n",
        "\n",
        "words2=set()\n",
        "for i in label_arr:\n",
        "    words2.add(i)\n",
        "print(len(words2))\n",
        "all_words2=sorted(list(words2))\n",
        "print(all_words2[11])"
      ],
      "execution_count": 0,
      "outputs": [
        {
          "output_type": "stream",
          "text": [
            "15\n",
            "15\n",
            "sedan\n"
          ],
          "name": "stdout"
        }
      ]
    },
    {
      "cell_type": "code",
      "metadata": {
        "id": "qVdGZLT5RAJM",
        "colab_type": "code",
        "colab": {}
      },
      "source": [
        "X_train, X_test,y_train,y_test = train_test_split(X,label_arr, test_size=0.1, random_state=10,stratify=label_arr)"
      ],
      "execution_count": 0,
      "outputs": []
    },
    {
      "cell_type": "code",
      "metadata": {
        "id": "RslPFj6GRAJP",
        "colab_type": "code",
        "colab": {},
        "outputId": "deb99798-8b01-4e95-905c-4720a44835bb"
      },
      "source": [
        "unique, counts = np.unique(y_test, return_counts=True)\n",
        "print(dict(zip(unique, counts)))"
      ],
      "execution_count": 0,
      "outputs": [
        {
          "output_type": "stream",
          "text": [
            "{'bus': 5, 'cement mixer': 2, 'crane truck': 2, 'hatchback': 308, 'jeep': 87, 'light truck': 16, 'minibus': 3, 'minivan': 59, 'pickup': 44, 'prime mover': 4, 'sedan': 578, 'truck': 18, 'van': 36}\n"
          ],
          "name": "stdout"
        }
      ]
    },
    {
      "cell_type": "code",
      "metadata": {
        "id": "EFWM0JX3RAJS",
        "colab_type": "code",
        "colab": {},
        "outputId": "862c5581-89e2-4321-98c4-c032beb9b556"
      },
      "source": [
        "unique, counts = np.unique(y_train, return_counts=True)\n",
        "print(dict(zip(unique, counts)))"
      ],
      "execution_count": 0,
      "outputs": [
        {
          "output_type": "stream",
          "text": [
            "{'bus': 48, 'cement mixer': 15, 'crane truck': 14, 'dedicated agricultural vehicle': 5, 'hatchback': 2772, 'jeep': 778, 'light truck': 148, 'minibus': 22, 'minivan': 527, 'pickup': 391, 'prime mover': 40, 'sedan': 5205, 'tanker': 3, 'truck': 161, 'van': 326}\n"
          ],
          "name": "stdout"
        }
      ]
    },
    {
      "cell_type": "code",
      "metadata": {
        "id": "OoONCNg9RAJV",
        "colab_type": "code",
        "colab": {},
        "outputId": "a12e8005-37eb-4499-d0bf-3aba31dec574"
      },
      "source": [
        "data2 = pd.read_csv('train_cars.csv', sep=\",\")\n",
        "print(data2.groupby(['target']).size())"
      ],
      "execution_count": 0,
      "outputs": [
        {
          "output_type": "stream",
          "text": [
            "target\n",
            "bus                                 53\n",
            "cement mixer                        17\n",
            "crane truck                         16\n",
            "dedicated agricultural vehicle       5\n",
            "hatchback                         3080\n",
            "jeep                               865\n",
            "light truck                        164\n",
            "minibus                             25\n",
            "minivan                            586\n",
            "pickup                             435\n",
            "prime mover                         44\n",
            "sedan                             5783\n",
            "tanker                               3\n",
            "truck                              179\n",
            "van                                362\n",
            "dtype: int64\n"
          ],
          "name": "stdout"
        }
      ]
    },
    {
      "cell_type": "code",
      "metadata": {
        "id": "OvG2FOAsRAJX",
        "colab_type": "code",
        "colab": {}
      },
      "source": [
        "train,valid=train_test_split(data2,test_size=0.1,random_state=10,stratify=data2.target)"
      ],
      "execution_count": 0,
      "outputs": []
    },
    {
      "cell_type": "code",
      "metadata": {
        "id": "14P-1QMGRAJa",
        "colab_type": "code",
        "colab": {},
        "outputId": "16a144bf-6895-4887-dbf4-fe71e5b26482"
      },
      "source": [
        "print(valid.groupby(['target']).size())"
      ],
      "execution_count": 0,
      "outputs": [
        {
          "output_type": "stream",
          "text": [
            "target\n",
            "bus               5\n",
            "cement mixer      2\n",
            "crane truck       2\n",
            "hatchback       308\n",
            "jeep             87\n",
            "light truck      16\n",
            "minibus           3\n",
            "minivan          59\n",
            "pickup           44\n",
            "prime mover       4\n",
            "sedan           578\n",
            "truck            18\n",
            "van              36\n",
            "dtype: int64\n"
          ],
          "name": "stdout"
        }
      ]
    },
    {
      "cell_type": "code",
      "metadata": {
        "id": "82wxsZ7HRAJd",
        "colab_type": "code",
        "colab": {}
      },
      "source": [
        "class DriveData(Dataset):\n",
        "    __xs = []\n",
        "    __ys = []\n",
        "\n",
        "    def __init__(self, csv_path,X_data,y_label, transform=None):\n",
        "        \n",
        "        self.transform = transform\n",
        "        # Open and load text file including the whole training data\n",
        "\n",
        "        #self.data = pd.read_csv(csv_path, sep=\",\")\n",
        "\n",
        "        self.X_arr = X_data\n",
        "\n",
        "        self.label_arr = y_label \n",
        "\n",
        "        #self.vocab = vocabulary(self.label_arr)\n",
        "\n",
        "        self.input_len=len(self.X_arr)\n",
        "\n",
        "    # Override to give PyTorch access to any image on the dataset\n",
        "    def __getitem__(self, index):\n",
        "        \n",
        "        img = Image.open('train/'+self.X_arr[index])\n",
        "\n",
        "        img = img.convert('RGB')\n",
        "\n",
        "        if self.transform is not None:\n",
        "            img = self.transform(img)\n",
        "\n",
        "        # Convert image and label to torch tensors\n",
        "        #img = self.to_tensor(img)\n",
        "        label = self.label_arr[index]\n",
        "        return img, vocab[label]\n",
        "\n",
        "    # Override to give PyTorch size of dataset\n",
        "    def __len__(self):\n",
        "        return self.input_len"
      ],
      "execution_count": 0,
      "outputs": []
    },
    {
      "cell_type": "code",
      "metadata": {
        "id": "imsr-uIuRAJg",
        "colab_type": "code",
        "colab": {},
        "outputId": "b236dcb9-07a7-48cf-a4a4-390f069f8e91"
      },
      "source": [
        "# define transforms\n",
        "valid_transform = transforms.Compose([\n",
        "        \n",
        "        transforms.Resize((80,80)),\n",
        "        transforms.ToTensor(),\n",
        "        transforms.Normalize((0.4956,0.5150,0.5682),(0.0238,0.0246,0.0224)),\n",
        "])\n",
        "train_transform = transforms.Compose([\n",
        "    transforms.Resize((80,80)),\n",
        "    transforms.RandomHorizontalFlip(),\n",
        "    transforms.RandomVerticalFlip(),\n",
        "    transforms.ToTensor(),\n",
        "    transforms.Normalize((0.4956, 0.5150, 0.5682),(0.0238, 0.0246, 0.0224)),\n",
        "])\n",
        "#else:\n",
        " #   train_transform = transforms.Compose([\n",
        "   #     transforms.ToTensor(),\n",
        "  #      normalize,\n",
        "  #  ])\n",
        "\n",
        "# load the dataset\n",
        "\n",
        "train_dataset = DriveData('train_cars.csv',X_train,y_train,train_transform)\n",
        "valid_dataset = DriveData('train_cars.csv',X_test,y_test,valid_transform)\n",
        "print(len(valid_dataset))"
      ],
      "execution_count": 0,
      "outputs": [
        {
          "output_type": "stream",
          "text": [
            "1162\n"
          ],
          "name": "stdout"
        }
      ]
    },
    {
      "cell_type": "code",
      "metadata": {
        "id": "KpNLARRQRAJi",
        "colab_type": "code",
        "colab": {},
        "outputId": "95ec0a38-36d7-48fc-eca6-161318e813ac"
      },
      "source": [
        "train_loader = torch.utils.data.DataLoader(\n",
        "    train_dataset, batch_size=64\n",
        ")\n",
        "valid_loader = torch.utils.data.DataLoader(\n",
        "    valid_dataset, batch_size=64\n",
        ")\n",
        "\n",
        "\n",
        "#trainset = DriveData('train_cars.csv',transform)\n",
        "\n",
        "print(train_dataset[3],train_dataset[3][0].shape)"
      ],
      "execution_count": 0,
      "outputs": [
        {
          "output_type": "stream",
          "text": [
            "(tensor([[[-20.8235, -20.8235, -20.8235,  ...,  -6.8179,  -6.9827,  -6.9827],\n",
            "         [-20.8235, -20.8235, -20.8235,  ...,  -6.8179,  -6.9827,  -6.9827],\n",
            "         [-20.8235, -20.8235, -20.8235,  ...,  -7.1475,  -7.1475,  -7.1475],\n",
            "         ...,\n",
            "         [ -5.1702,  -5.1702,  -5.0054,  ...,  -4.5111,  -3.6873,  -3.6873],\n",
            "         [ -5.0054,  -5.0054,  -5.3350,  ...,  -4.8407,  -4.0168,  -4.0168],\n",
            "         [ -5.0054,  -5.0054,  -5.3350,  ...,  -4.8407,  -4.0168,  -4.0168]],\n",
            "\n",
            "        [[-20.9350, -20.9350, -20.9350,  ...,  -6.2689,  -6.4283,  -6.4283],\n",
            "         [-20.9350, -20.9350, -20.9350,  ...,  -6.4283,  -6.4283,  -6.4283],\n",
            "         [-20.9350, -20.9350, -20.9350,  ...,  -6.7472,  -6.5878,  -6.5878],\n",
            "         ...,\n",
            "         [ -4.6748,  -4.6748,  -4.5154,  ...,  -4.9936,  -4.0371,  -4.0371],\n",
            "         [ -4.5154,  -4.5154,  -4.6748,  ...,  -5.1530,  -4.3560,  -4.3560],\n",
            "         [ -4.5154,  -4.5154,  -4.6748,  ...,  -5.1530,  -4.3560,  -4.3560]],\n",
            "\n",
            "        [[-25.3661, -25.3661, -25.3661,  ...,  -6.1084,  -6.1084,  -6.1084],\n",
            "         [-25.3661, -25.3661, -25.3661,  ...,  -6.1084,  -6.1084,  -6.1084],\n",
            "         [-25.3661, -25.3661, -25.3661,  ...,  -6.2834,  -5.9333,  -5.9333],\n",
            "         ...,\n",
            "         [ -3.3072,  -3.3072,  -3.3072,  ...,  -3.4823,  -2.4319,  -2.4319],\n",
            "         [ -2.6070,  -2.6070,  -2.9571,  ...,  -3.8325,  -2.7820,  -2.7820],\n",
            "         [ -2.4319,  -2.4319,  -2.9571,  ...,  -3.8325,  -2.7820,  -2.7820]]]), 11) torch.Size([3, 80, 80])\n"
          ],
          "name": "stdout"
        }
      ]
    },
    {
      "cell_type": "code",
      "metadata": {
        "id": "pxbyVp3MRAJl",
        "colab_type": "code",
        "colab": {},
        "outputId": "f8beed1d-3517-47c1-99fb-9a4246f42b2e"
      },
      "source": [
        "dataiter = iter(train_loader)\n",
        "images, labels = dataiter.next()\n",
        "print(images.shape)\n",
        "def imshow(img):\n",
        "    img=img.numpy().transpose((1,2,0))\n",
        "    mean=np.array([0.4956,0.5150,0.5682])\n",
        "    std=[0.0238, 0.0246, 0.0224]\n",
        "    img = std*img+mean     # unnormalize\n",
        "    #npimg = img.numpy()\n",
        "    #plt.imshow(np.transpose(npimg, (1, 2, 0)))\n",
        "    plt.imshow(img)\n",
        "    \n",
        "    \n",
        "# show images\n",
        "grid = torchvision.utils.make_grid(images[:4])\n",
        "imshow(grid)\n",
        "# print labels\n",
        "print(' '.join('%5s' % all_words2[labels[j]] for j in range(4)))"
      ],
      "execution_count": 0,
      "outputs": [
        {
          "output_type": "stream",
          "text": [
            "Clipping input data to the valid range for imshow with RGB data ([0..1] for floats or [0..255] for integers).\n"
          ],
          "name": "stderr"
        },
        {
          "output_type": "stream",
          "text": [
            "torch.Size([64, 3, 80, 80])\n",
            "sedan minivan hatchback sedan\n"
          ],
          "name": "stdout"
        },
        {
          "output_type": "display_data",
          "data": {
            "image/png": "[encoded data removed]",
            "text/plain": [
              "<Figure size 432x288 with 1 Axes>"
            ]
          },
          "metadata": {
            "tags": [],
            "needs_background": "light"
          }
        }
      ]
    },
    {
      "cell_type": "code",
      "metadata": {
        "id": "WDjE0whERAJn",
        "colab_type": "code",
        "colab": {}
      },
      "source": [
        "def train_model(model, dataloaders, criterion, optimizer, num_epochs=25, is_inception=False):\n",
        "    since = time.time()\n",
        "\n",
        "    val_acc_history = []\n",
        "\n",
        "    best_model_wts = copy.deepcopy(model.state_dict())\n",
        "    best_acc = 0.0\n",
        "\n",
        "    for epoch in range(num_epochs):\n",
        "        print('Epoch {}/{}'.format(epoch, num_epochs - 1))\n",
        "        print('-' * 10)\n",
        "\n",
        "        # Each epoch has a training and validation phase\n",
        "        for phase in ['train', 'val']:\n",
        "            if phase == 'train':\n",
        "                model.train()  # Set model to training mode\n",
        "            else:\n",
        "                model.eval()   # Set model to evaluate mode\n",
        "\n",
        "            running_loss = 0.0\n",
        "            running_corrects = 0\n",
        "\n",
        "            # Iterate over data.\n",
        "            for inputs, labels in dataloaders[phase]:\n",
        "                inputs = inputs.to(device)\n",
        "                labels = labels.to(device)\n",
        "\n",
        "                # zero the parameter gradients\n",
        "                optimizer.zero_grad()\n",
        "\n",
        "                # forward\n",
        "                # track history if only in train\n",
        "                with torch.set_grad_enabled(phase == 'train'):\n",
        "                    # Get model outputs and calculate loss\n",
        "                    # Special case for inception because in training it has an auxiliary output. In train\n",
        "                    #   mode we calculate the loss by summing the final output and the auxiliary output\n",
        "                    #   but in testing we only consider the final output.\n",
        "                    if is_inception and phase == 'train':\n",
        "                        # From https://discuss.pytorch.org/t/how-to-optimize-inception-model-with-auxiliary-classifiers/7958\n",
        "                        outputs, aux_outputs = model(inputs)\n",
        "                        loss1 = criterion(outputs, labels)\n",
        "                        loss2 = criterion(aux_outputs, labels)\n",
        "                        loss = loss1 + 0.4*loss2\n",
        "                    else:\n",
        "                        outputs = model(inputs)\n",
        "                        loss = criterion(outputs, labels)\n",
        "\n",
        "                    _, preds = torch.max(outputs, 1)\n",
        "\n",
        "                    # backward + optimize only if in training phase\n",
        "                    if phase == 'train':\n",
        "                        loss.backward()\n",
        "                        optimizer.step()\n",
        "\n",
        "                # statistics\n",
        "                running_loss += loss.item() * inputs.size(0)\n",
        "                running_corrects += torch.sum(preds == labels)\n",
        "\n",
        "            epoch_loss = running_loss / len(dataloaders[phase].dataset)\n",
        "            epoch_acc = running_corrects.double() / len(dataloaders[phase].dataset)\n",
        "\n",
        "            print('{} Loss: {:.4f} Acc: {:.4f}'.format(phase, epoch_loss, epoch_acc))\n",
        "\n",
        "            # deep copy the model\n",
        "            if phase == 'val' and epoch_acc > best_acc:\n",
        "                best_acc = epoch_acc\n",
        "                best_model_wts = copy.deepcopy(model.state_dict())\n",
        "            if phase == 'val':\n",
        "                val_acc_history.append(epoch_acc)\n",
        "\n",
        "        print()\n",
        "\n",
        "    time_elapsed = time.time() - since\n",
        "    print('Training complete in {:.0f}m {:.0f}s'.format(time_elapsed // 60, time_elapsed % 60))\n",
        "    print('Best val Acc: {:4f}'.format(best_acc))\n",
        "\n",
        "    # load best model weights\n",
        "    model.load_state_dict(best_model_wts)\n",
        "    return model, val_acc_history"
      ],
      "execution_count": 0,
      "outputs": []
    },
    {
      "cell_type": "code",
      "metadata": {
        "id": "BmXS5FQrRAJq",
        "colab_type": "code",
        "colab": {}
      },
      "source": [
        "import time\n",
        "import copy\n",
        "def set_parameter_requires_grad(model, feature_extracting):\n",
        "    if feature_extracting:\n",
        "        for param in model.parameters():\n",
        "            param.requires_grad = False"
      ],
      "execution_count": 0,
      "outputs": []
    },
    {
      "cell_type": "code",
      "metadata": {
        "id": "UkdwGyeFRAJt",
        "colab_type": "code",
        "colab": {}
      },
      "source": [
        "def initialize_model(model_name, num_classes, feature_extract, use_pretrained=True):\n",
        "    # Initialize these variables which will be set in this if statement. Each of these\n",
        "    #   variables is model specific.\n",
        "    model_ft = None\n",
        "    input_size = 0\n",
        "\n",
        "    if model_name == \"resnet\":\n",
        "        \"\"\" Resnet18\n",
        "        \"\"\"\n",
        "        model_ft = models.resnet18(pretrained=use_pretrained)\n",
        "        set_parameter_requires_grad(model_ft, feature_extract)\n",
        "        model_ft.avgpool = nn.AdaptiveAvgPool2d(1)\n",
        "        num_ftrs = model_ft.fc.in_features\n",
        "        model_ft.fc = nn.Linear(num_ftrs, num_classes)\n",
        "        input_size = 224\n",
        "\n",
        "    elif model_name == \"alexnet\":\n",
        "        \"\"\" Alexnet\n",
        "        \"\"\"\n",
        "        model_ft = models.alexnet(pretrained=use_pretrained)\n",
        "        set_parameter_requires_grad(model_ft, feature_extract)\n",
        "        num_ftrs = model_ft.classifier[6].in_features\n",
        "        model_ft.classifier[6] = nn.Linear(num_ftrs,num_classes)\n",
        "        input_size = 224\n",
        "\n",
        "    elif model_name == \"vgg\":\n",
        "        \"\"\" VGG11_bn\n",
        "        \"\"\"\n",
        "        model_ft = models.vgg11_bn(pretrained=use_pretrained)\n",
        "        set_parameter_requires_grad(model_ft, feature_extract)\n",
        "        num_ftrs = model_ft.classifier[6].in_features\n",
        "        model_ft.classifier[6] = nn.Linear(num_ftrs,num_classes)\n",
        "        input_size = 224\n",
        "\n",
        "    elif model_name == \"squeezenet\":\n",
        "        \"\"\" Squeezenet\n",
        "        \"\"\"\n",
        "        model_ft = models.squeezenet1_0(pretrained=use_pretrained)\n",
        "        set_parameter_requires_grad(model_ft, feature_extract)\n",
        "        model_ft.classifier[1] = nn.Conv2d(512, num_classes, kernel_size=(1,1), stride=(1,1))\n",
        "        model_ft.num_classes = num_classes\n",
        "        input_size = 224\n",
        "\n",
        "    elif model_name == \"densenet\":\n",
        "        \"\"\" Densenet\n",
        "        \"\"\"\n",
        "        model_ft = models.densenet121(pretrained=use_pretrained)\n",
        "        set_parameter_requires_grad(model_ft, feature_extract)\n",
        "        num_ftrs = model_ft.classifier.in_features\n",
        "        model_ft.classifier = nn.Linear(num_ftrs, num_classes)\n",
        "        input_size = 224\n",
        "\n",
        "    elif model_name == \"inception\":\n",
        "        \"\"\" Inception v3\n",
        "        Be careful, expects (299,299) sized images and has auxiliary output\n",
        "        \"\"\"\n",
        "        model_ft = models.inception_v3(pretrained=use_pretrained)\n",
        "        set_parameter_requires_grad(model_ft, feature_extract)\n",
        "        # Handle the auxilary net\n",
        "        num_ftrs = model_ft.AuxLogits.fc.in_features\n",
        "        model_ft.AuxLogits.fc = nn.Linear(num_ftrs, num_classes)\n",
        "        # Handle the primary net\n",
        "        num_ftrs = model_ft.fc.in_features\n",
        "        model_ft.fc = nn.Linear(num_ftrs,num_classes)\n",
        "        input_size = 299\n",
        "\n",
        "    else:\n",
        "        print(\"Invalid model name, exiting...\")\n",
        "        exit()\n",
        "\n",
        "    return model_ft, input_size\n",
        "\n"
      ],
      "execution_count": 0,
      "outputs": []
    },
    {
      "cell_type": "code",
      "metadata": {
        "id": "6uKRpXjeRAJv",
        "colab_type": "code",
        "colab": {},
        "outputId": "eae5e1bd-56d2-49dd-aaeb-5d3f334afc99"
      },
      "source": [
        "# Initialize the model for this run\n",
        "model_ft, input_size = initialize_model('resnet', 15, False, use_pretrained=True)\n",
        "\n",
        "# Print the model we just instantiated\n",
        "print(model_ft)"
      ],
      "execution_count": 0,
      "outputs": [
        {
          "output_type": "stream",
          "text": [
            "ResNet(\n",
            "  (conv1): Conv2d(3, 64, kernel_size=(7, 7), stride=(2, 2), padding=(3, 3), bias=False)\n",
            "  (bn1): BatchNorm2d(64, eps=1e-05, momentum=0.1, affine=True, track_running_stats=True)\n",
            "  (relu): ReLU(inplace)\n",
            "  (maxpool): MaxPool2d(kernel_size=3, stride=2, padding=1, dilation=1, ceil_mode=False)\n",
            "  (layer1): Sequential(\n",
            "    (0): BasicBlock(\n",
            "      (conv1): Conv2d(64, 64, kernel_size=(3, 3), stride=(1, 1), padding=(1, 1), bias=False)\n",
            "      (bn1): BatchNorm2d(64, eps=1e-05, momentum=0.1, affine=True, track_running_stats=True)\n",
            "      (relu): ReLU(inplace)\n",
            "      (conv2): Conv2d(64, 64, kernel_size=(3, 3), stride=(1, 1), padding=(1, 1), bias=False)\n",
            "      (bn2): BatchNorm2d(64, eps=1e-05, momentum=0.1, affine=True, track_running_stats=True)\n",
            "    )\n",
            "    (1): BasicBlock(\n",
            "      (conv1): Conv2d(64, 64, kernel_size=(3, 3), stride=(1, 1), padding=(1, 1), bias=False)\n",
            "      (bn1): BatchNorm2d(64, eps=1e-05, momentum=0.1, affine=True, track_running_stats=True)\n",
            "      (relu): ReLU(inplace)\n",
            "      (conv2): Conv2d(64, 64, kernel_size=(3, 3), stride=(1, 1), padding=(1, 1), bias=False)\n",
            "      (bn2): BatchNorm2d(64, eps=1e-05, momentum=0.1, affine=True, track_running_stats=True)\n",
            "    )\n",
            "  )\n",
            "  (layer2): Sequential(\n",
            "    (0): BasicBlock(\n",
            "      (conv1): Conv2d(64, 128, kernel_size=(3, 3), stride=(2, 2), padding=(1, 1), bias=False)\n",
            "      (bn1): BatchNorm2d(128, eps=1e-05, momentum=0.1, affine=True, track_running_stats=True)\n",
            "      (relu): ReLU(inplace)\n",
            "      (conv2): Conv2d(128, 128, kernel_size=(3, 3), stride=(1, 1), padding=(1, 1), bias=False)\n",
            "      (bn2): BatchNorm2d(128, eps=1e-05, momentum=0.1, affine=True, track_running_stats=True)\n",
            "      (downsample): Sequential(\n",
            "        (0): Conv2d(64, 128, kernel_size=(1, 1), stride=(2, 2), bias=False)\n",
            "        (1): BatchNorm2d(128, eps=1e-05, momentum=0.1, affine=True, track_running_stats=True)\n",
            "      )\n",
            "    )\n",
            "    (1): BasicBlock(\n",
            "      (conv1): Conv2d(128, 128, kernel_size=(3, 3), stride=(1, 1), padding=(1, 1), bias=False)\n",
            "      (bn1): BatchNorm2d(128, eps=1e-05, momentum=0.1, affine=True, track_running_stats=True)\n",
            "      (relu): ReLU(inplace)\n",
            "      (conv2): Conv2d(128, 128, kernel_size=(3, 3), stride=(1, 1), padding=(1, 1), bias=False)\n",
            "      (bn2): BatchNorm2d(128, eps=1e-05, momentum=0.1, affine=True, track_running_stats=True)\n",
            "    )\n",
            "  )\n",
            "  (layer3): Sequential(\n",
            "    (0): BasicBlock(\n",
            "      (conv1): Conv2d(128, 256, kernel_size=(3, 3), stride=(2, 2), padding=(1, 1), bias=False)\n",
            "      (bn1): BatchNorm2d(256, eps=1e-05, momentum=0.1, affine=True, track_running_stats=True)\n",
            "      (relu): ReLU(inplace)\n",
            "      (conv2): Conv2d(256, 256, kernel_size=(3, 3), stride=(1, 1), padding=(1, 1), bias=False)\n",
            "      (bn2): BatchNorm2d(256, eps=1e-05, momentum=0.1, affine=True, track_running_stats=True)\n",
            "      (downsample): Sequential(\n",
            "        (0): Conv2d(128, 256, kernel_size=(1, 1), stride=(2, 2), bias=False)\n",
            "        (1): BatchNorm2d(256, eps=1e-05, momentum=0.1, affine=True, track_running_stats=True)\n",
            "      )\n",
            "    )\n",
            "    (1): BasicBlock(\n",
            "      (conv1): Conv2d(256, 256, kernel_size=(3, 3), stride=(1, 1), padding=(1, 1), bias=False)\n",
            "      (bn1): BatchNorm2d(256, eps=1e-05, momentum=0.1, affine=True, track_running_stats=True)\n",
            "      (relu): ReLU(inplace)\n",
            "      (conv2): Conv2d(256, 256, kernel_size=(3, 3), stride=(1, 1), padding=(1, 1), bias=False)\n",
            "      (bn2): BatchNorm2d(256, eps=1e-05, momentum=0.1, affine=True, track_running_stats=True)\n",
            "    )\n",
            "  )\n",
            "  (layer4): Sequential(\n",
            "    (0): BasicBlock(\n",
            "      (conv1): Conv2d(256, 512, kernel_size=(3, 3), stride=(2, 2), padding=(1, 1), bias=False)\n",
            "      (bn1): BatchNorm2d(512, eps=1e-05, momentum=0.1, affine=True, track_running_stats=True)\n",
            "      (relu): ReLU(inplace)\n",
            "      (conv2): Conv2d(512, 512, kernel_size=(3, 3), stride=(1, 1), padding=(1, 1), bias=False)\n",
            "      (bn2): BatchNorm2d(512, eps=1e-05, momentum=0.1, affine=True, track_running_stats=True)\n",
            "      (downsample): Sequential(\n",
            "        (0): Conv2d(256, 512, kernel_size=(1, 1), stride=(2, 2), bias=False)\n",
            "        (1): BatchNorm2d(512, eps=1e-05, momentum=0.1, affine=True, track_running_stats=True)\n",
            "      )\n",
            "    )\n",
            "    (1): BasicBlock(\n",
            "      (conv1): Conv2d(512, 512, kernel_size=(3, 3), stride=(1, 1), padding=(1, 1), bias=False)\n",
            "      (bn1): BatchNorm2d(512, eps=1e-05, momentum=0.1, affine=True, track_running_stats=True)\n",
            "      (relu): ReLU(inplace)\n",
            "      (conv2): Conv2d(512, 512, kernel_size=(3, 3), stride=(1, 1), padding=(1, 1), bias=False)\n",
            "      (bn2): BatchNorm2d(512, eps=1e-05, momentum=0.1, affine=True, track_running_stats=True)\n",
            "    )\n",
            "  )\n",
            "  (avgpool): AdaptiveAvgPool2d(output_size=1)\n",
            "  (fc): Linear(in_features=512, out_features=15, bias=True)\n",
            ")\n"
          ],
          "name": "stdout"
        }
      ]
    },
    {
      "cell_type": "code",
      "metadata": {
        "id": "wFwVeXtHRAJx",
        "colab_type": "code",
        "colab": {},
        "outputId": "e521668d-4f6c-493e-b3a4-72f5ebed7157"
      },
      "source": [
        "device = torch.device(\"cuda:0\" if torch.cuda.is_available() else \"cpu\")\n",
        "\n",
        "# Send the model to GPU\n",
        "model_ft = model_ft.to(device)\n",
        "\n",
        "# Gather the parameters to be optimized/updated in this run. If we are\n",
        "#  finetuning we will be updating all parameters. However, if we are\n",
        "#  doing feature extract method, we will only update the parameters\n",
        "#  that we have just initialized, i.e. the parameters with requires_grad\n",
        "#  is True.\n",
        "feature_extract=False\n",
        "params_to_update = model_ft.parameters()\n",
        "print(\"Params to learn:\")\n",
        "if feature_extract:\n",
        "    params_to_update = []\n",
        "    for name,param in model_ft.named_parameters():\n",
        "        if param.requires_grad == True:\n",
        "            params_to_update.append(param)\n",
        "            print(\"\\t\",name)\n",
        "else:\n",
        "    for name,param in model_ft.named_parameters():\n",
        "        if param.requires_grad == True:\n",
        "            print(\"\\t\",name)\n",
        "\n",
        "# Observe that all parameters are being optimized\n",
        "optimizer_ft = optim.SGD(params_to_update, lr=0.001, momentum=0.9)"
      ],
      "execution_count": 0,
      "outputs": [
        {
          "output_type": "stream",
          "text": [
            "Params to learn:\n",
            "\t conv1.weight\n",
            "\t bn1.weight\n",
            "\t bn1.bias\n",
            "\t layer1.0.conv1.weight\n",
            "\t layer1.0.bn1.weight\n",
            "\t layer1.0.bn1.bias\n",
            "\t layer1.0.conv2.weight\n",
            "\t layer1.0.bn2.weight\n",
            "\t layer1.0.bn2.bias\n",
            "\t layer1.1.conv1.weight\n",
            "\t layer1.1.bn1.weight\n",
            "\t layer1.1.bn1.bias\n",
            "\t layer1.1.conv2.weight\n",
            "\t layer1.1.bn2.weight\n",
            "\t layer1.1.bn2.bias\n",
            "\t layer2.0.conv1.weight\n",
            "\t layer2.0.bn1.weight\n",
            "\t layer2.0.bn1.bias\n",
            "\t layer2.0.conv2.weight\n",
            "\t layer2.0.bn2.weight\n",
            "\t layer2.0.bn2.bias\n",
            "\t layer2.0.downsample.0.weight\n",
            "\t layer2.0.downsample.1.weight\n",
            "\t layer2.0.downsample.1.bias\n",
            "\t layer2.1.conv1.weight\n",
            "\t layer2.1.bn1.weight\n",
            "\t layer2.1.bn1.bias\n",
            "\t layer2.1.conv2.weight\n",
            "\t layer2.1.bn2.weight\n",
            "\t layer2.1.bn2.bias\n",
            "\t layer3.0.conv1.weight\n",
            "\t layer3.0.bn1.weight\n",
            "\t layer3.0.bn1.bias\n",
            "\t layer3.0.conv2.weight\n",
            "\t layer3.0.bn2.weight\n",
            "\t layer3.0.bn2.bias\n",
            "\t layer3.0.downsample.0.weight\n",
            "\t layer3.0.downsample.1.weight\n",
            "\t layer3.0.downsample.1.bias\n",
            "\t layer3.1.conv1.weight\n",
            "\t layer3.1.bn1.weight\n",
            "\t layer3.1.bn1.bias\n",
            "\t layer3.1.conv2.weight\n",
            "\t layer3.1.bn2.weight\n",
            "\t layer3.1.bn2.bias\n",
            "\t layer4.0.conv1.weight\n",
            "\t layer4.0.bn1.weight\n",
            "\t layer4.0.bn1.bias\n",
            "\t layer4.0.conv2.weight\n",
            "\t layer4.0.bn2.weight\n",
            "\t layer4.0.bn2.bias\n",
            "\t layer4.0.downsample.0.weight\n",
            "\t layer4.0.downsample.1.weight\n",
            "\t layer4.0.downsample.1.bias\n",
            "\t layer4.1.conv1.weight\n",
            "\t layer4.1.bn1.weight\n",
            "\t layer4.1.bn1.bias\n",
            "\t layer4.1.conv2.weight\n",
            "\t layer4.1.bn2.weight\n",
            "\t layer4.1.bn2.bias\n",
            "\t fc.weight\n",
            "\t fc.bias\n"
          ],
          "name": "stdout"
        }
      ]
    },
    {
      "cell_type": "code",
      "metadata": {
        "id": "DcKIzg9lRAJ0",
        "colab_type": "code",
        "colab": {}
      },
      "source": [
        "dataloaders=dict()\n",
        "dataloaders['train']=train_loader\n",
        "dataloaders['val']=valid_loader"
      ],
      "execution_count": 0,
      "outputs": []
    },
    {
      "cell_type": "code",
      "metadata": {
        "id": "DVt7LcXIRAJ2",
        "colab_type": "code",
        "colab": {},
        "outputId": "ca5facfb-61a1-4769-b9ea-5e06a1cb569d"
      },
      "source": [
        "# Setup the loss fxn\n",
        "criterion = nn.CrossEntropyLoss()\n",
        "\n",
        "# Train and evaluate\n",
        "model_ft, hist = train_model(model_ft, dataloaders, criterion, optimizer_ft, num_epochs=20)"
      ],
      "execution_count": 0,
      "outputs": [
        {
          "output_type": "stream",
          "text": [
            "Epoch 0/19\n",
            "----------\n",
            "train Loss: 1.2806 Acc: 0.5747\n",
            "val Loss: 1.0391 Acc: 0.6540\n",
            "\n",
            "Epoch 1/19\n",
            "----------\n",
            "train Loss: 0.9390 Acc: 0.6736\n",
            "val Loss: 0.9381 Acc: 0.6704\n",
            "\n",
            "Epoch 2/19\n",
            "----------\n",
            "train Loss: 0.8227 Acc: 0.7103\n",
            "val Loss: 0.8864 Acc: 0.6893\n",
            "\n",
            "Epoch 3/19\n",
            "----------\n",
            "train Loss: 0.7424 Acc: 0.7376\n",
            "val Loss: 0.8533 Acc: 0.7022\n",
            "\n",
            "Epoch 4/19\n",
            "----------\n",
            "train Loss: 0.6745 Acc: 0.7593\n",
            "val Loss: 0.8719 Acc: 0.7040\n",
            "\n",
            "Epoch 5/19\n",
            "----------\n",
            "train Loss: 0.6100 Acc: 0.7842\n",
            "val Loss: 0.8657 Acc: 0.7074\n",
            "\n",
            "Epoch 6/19\n",
            "----------\n",
            "train Loss: 0.5524 Acc: 0.8083\n",
            "val Loss: 0.8733 Acc: 0.6936\n",
            "\n",
            "Epoch 7/19\n",
            "----------\n",
            "train Loss: 0.4912 Acc: 0.8311\n",
            "val Loss: 0.8929 Acc: 0.7108\n",
            "\n",
            "Epoch 8/19\n",
            "----------\n",
            "train Loss: 0.4274 Acc: 0.8535\n",
            "val Loss: 0.9276 Acc: 0.7212\n",
            "\n",
            "Epoch 9/19\n",
            "----------\n",
            "train Loss: 0.3992 Acc: 0.8679\n",
            "val Loss: 0.9576 Acc: 0.6962\n",
            "\n",
            "Epoch 10/19\n",
            "----------\n",
            "train Loss: 0.3471 Acc: 0.8862\n",
            "val Loss: 0.9680 Acc: 0.7022\n",
            "\n",
            "Epoch 11/19\n",
            "----------\n",
            "train Loss: 0.3061 Acc: 0.8986\n",
            "val Loss: 1.0352 Acc: 0.7074\n",
            "\n",
            "Epoch 12/19\n",
            "----------\n",
            "train Loss: 0.2583 Acc: 0.9193\n",
            "val Loss: 1.0731 Acc: 0.7143\n",
            "\n",
            "Epoch 13/19\n",
            "----------\n",
            "train Loss: 0.2307 Acc: 0.9263\n",
            "val Loss: 1.0800 Acc: 0.7229\n",
            "\n",
            "Epoch 14/19\n",
            "----------\n",
            "train Loss: 0.1950 Acc: 0.9395\n",
            "val Loss: 1.1200 Acc: 0.7083\n",
            "\n",
            "Epoch 15/19\n",
            "----------\n",
            "train Loss: 0.1773 Acc: 0.9484\n",
            "val Loss: 1.1851 Acc: 0.7100\n",
            "\n",
            "Epoch 16/19\n",
            "----------\n",
            "train Loss: 0.1484 Acc: 0.9586\n",
            "val Loss: 1.1771 Acc: 0.7108\n",
            "\n",
            "Epoch 17/19\n",
            "----------\n",
            "train Loss: 0.1356 Acc: 0.9619\n",
            "val Loss: 1.2406 Acc: 0.6919\n",
            "\n",
            "Epoch 18/19\n",
            "----------\n",
            "train Loss: 0.1130 Acc: 0.9670\n",
            "val Loss: 1.2259 Acc: 0.7160\n",
            "\n",
            "Epoch 19/19\n",
            "----------\n",
            "train Loss: 0.0984 Acc: 0.9748\n",
            "val Loss: 1.3015 Acc: 0.7074\n",
            "\n",
            "Training complete in 8m 0s\n",
            "Best val Acc: 0.722892\n"
          ],
          "name": "stdout"
        }
      ]
    },
    {
      "cell_type": "code",
      "metadata": {
        "id": "4Y31ASmoRAJ5",
        "colab_type": "code",
        "colab": {},
        "outputId": "9b91f049-2a04-412d-e70c-57e5fbb22971"
      },
      "source": [
        "print(hist)"
      ],
      "execution_count": 0,
      "outputs": [
        {
          "output_type": "stream",
          "text": [
            "[tensor(0.6540, device='cuda:0', dtype=torch.float64), tensor(0.6704, device='cuda:0', dtype=torch.float64), tensor(0.6893, device='cuda:0', dtype=torch.float64), tensor(0.7022, device='cuda:0', dtype=torch.float64), tensor(0.7040, device='cuda:0', dtype=torch.float64), tensor(0.7074, device='cuda:0', dtype=torch.float64), tensor(0.6936, device='cuda:0', dtype=torch.float64), tensor(0.7108, device='cuda:0', dtype=torch.float64), tensor(0.7212, device='cuda:0', dtype=torch.float64), tensor(0.6962, device='cuda:0', dtype=torch.float64), tensor(0.7022, device='cuda:0', dtype=torch.float64), tensor(0.7074, device='cuda:0', dtype=torch.float64), tensor(0.7143, device='cuda:0', dtype=torch.float64), tensor(0.7229, device='cuda:0', dtype=torch.float64), tensor(0.7083, device='cuda:0', dtype=torch.float64), tensor(0.7100, device='cuda:0', dtype=torch.float64), tensor(0.7108, device='cuda:0', dtype=torch.float64), tensor(0.6919, device='cuda:0', dtype=torch.float64), tensor(0.7160, device='cuda:0', dtype=torch.float64), tensor(0.7074, device='cuda:0', dtype=torch.float64)]\n"
          ],
          "name": "stdout"
        }
      ]
    },
    {
      "cell_type": "code",
      "metadata": {
        "id": "n0v-cOPQRAJ7",
        "colab_type": "code",
        "colab": {}
      },
      "source": [
        ""
      ],
      "execution_count": 0,
      "outputs": []
    }
  ]
}